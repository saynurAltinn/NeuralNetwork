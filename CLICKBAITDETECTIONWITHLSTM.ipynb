{
  "nbformat": 4,
  "nbformat_minor": 0,
  "metadata": {
    "colab": {
      "name": "LSTM_FinalProject.ipynb",
      "provenance": [],
      "collapsed_sections": []
    },
    "kernelspec": {
      "name": "python3",
      "display_name": "Python 3"
    },
    "language_info": {
      "name": "python"
    },
    "accelerator": "GPU"
  },
  "cells": [
    {
      "cell_type": "markdown",
      "metadata": {
        "id": "U0VMEGrBIf5p"
      },
      "source": [
        "# **CLICKBAIT DETECTION WITH LSTM**\n",
        "\n",
        "\n",
        "## My aim in this project is to predict clickbaits other than real news.\n",
        "\n",
        "Clickbait is a text or a thumbnail link that is designed to attract attention and to entice users to follow that link and read, view, or listen to the linked piece of online content, with a defining characteristic of being deceptive, typically sensationalized or misleading. (Wikipedia)"
      ]
    },
    {
      "cell_type": "code",
      "metadata": {
        "colab": {
          "base_uri": "https://localhost:8080/"
        },
        "id": "88pbNiMXNbsl",
        "outputId": "3b508d96-97ee-4705-8f68-fb15c814ad7e"
      },
      "source": [
        "# Check if NVIDIA GPU is enabled\n",
        "!nvidia-smi"
      ],
      "execution_count": 1,
      "outputs": [
        {
          "output_type": "stream",
          "text": [
            "Thu Jun 17 14:24:02 2021       \n",
            "+-----------------------------------------------------------------------------+\n",
            "| NVIDIA-SMI 465.27       Driver Version: 460.32.03    CUDA Version: 11.2     |\n",
            "|-------------------------------+----------------------+----------------------+\n",
            "| GPU  Name        Persistence-M| Bus-Id        Disp.A | Volatile Uncorr. ECC |\n",
            "| Fan  Temp  Perf  Pwr:Usage/Cap|         Memory-Usage | GPU-Util  Compute M. |\n",
            "|                               |                      |               MIG M. |\n",
            "|===============================+======================+======================|\n",
            "|   0  Tesla K80           Off  | 00000000:00:04.0 Off |                    0 |\n",
            "| N/A   69C    P8    32W / 149W |      0MiB / 11441MiB |      0%      Default |\n",
            "|                               |                      |                  N/A |\n",
            "+-------------------------------+----------------------+----------------------+\n",
            "                                                                               \n",
            "+-----------------------------------------------------------------------------+\n",
            "| Processes:                                                                  |\n",
            "|  GPU   GI   CI        PID   Type   Process name                  GPU Memory |\n",
            "|        ID   ID                                                   Usage      |\n",
            "|=============================================================================|\n",
            "|  No running processes found                                                 |\n",
            "+-----------------------------------------------------------------------------+\n"
          ],
          "name": "stdout"
        }
      ]
    },
    {
      "cell_type": "markdown",
      "metadata": {
        "id": "kQh01O0ROvV0"
      },
      "source": [
        "# **CONNECT GOOGLE DRIVE** "
      ]
    },
    {
      "cell_type": "code",
      "metadata": {
        "colab": {
          "base_uri": "https://localhost:8080/"
        },
        "id": "kf3e1kzUOwmL",
        "outputId": "e7166e34-5f39-4b32-d008-eff916d3396e"
      },
      "source": [
        "from google.colab import drive\n",
        "drive.mount('/content/gdrive')\n",
        "!ln -s /content/gdrive/My\\ Drive/ /mydrive\n",
        "!ls /mydrive"
      ],
      "execution_count": 2,
      "outputs": [
        {
          "output_type": "stream",
          "text": [
            "Mounted at /content/gdrive\n",
            " Classroom\t\t\t     modelTraining\n",
            " clickbait_data2.csv\t\t    'My Drive'\n",
            " clickbait_data.csv\t\t    'Nathan For You - Frozen Yogurt-1.m4v'\n",
            "'Colab Notebooks'\t\t     trainModel\n",
            " Fake.csv\t\t\t     True.csv\n",
            " finalProject_LSTM.ipynb\t     Untitled\n",
            "'https:  drive.m.txt'\t\t     Untitled0.ipynb\n",
            "'images.zip adlı dosyanın kopyası'   Untitled1.ipynb\n",
            " library_management_system.zip\t     yolov3\n",
            " Model\n"
          ],
          "name": "stdout"
        }
      ]
    },
    {
      "cell_type": "markdown",
      "metadata": {
        "id": "jX-VgGcSO_NH"
      },
      "source": [
        "# **IMPORT REQUIRED LIBRARIES**"
      ]
    },
    {
      "cell_type": "code",
      "metadata": {
        "id": "wJ9SSLp2PFKn"
      },
      "source": [
        "import numpy as np\n",
        "import pandas as pd\n",
        "import matplotlib.pyplot as plt\n",
        "import plotly.graph_objects as go\n",
        "import seaborn as sns\n",
        "\n",
        "from sklearn.model_selection import train_test_split\n",
        "from sklearn.feature_extraction.text import CountVectorizer\n",
        "from sklearn.metrics import confusion_matrix\n",
        "from mlxtend.plotting import plot_confusion_matrix\n",
        "\n",
        "from tensorflow.keras.models import Sequential\n",
        "from tensorflow.keras.layers import Embedding, LSTM, Dense, Dropout, GlobalMaxPooling1D\n",
        "from tensorflow.keras.preprocessing.text import Tokenizer\n",
        "from tensorflow.keras.preprocessing.sequence import pad_sequences\n",
        "from tensorflow.keras.callbacks import ModelCheckpoint, EarlyStopping, ReduceLROnPlateau"
      ],
      "execution_count": 3,
      "outputs": []
    },
    {
      "cell_type": "markdown",
      "metadata": {
        "id": "LsFR3QKyNO1k"
      },
      "source": [
        "# **DATA PREPROCESSING**\n",
        "I download [clickbait-dataset](https://www.kaggle.com/amananandrai/clickbait-dataset) If clickbait value is 1 text is clickbait if it is 0 non-clickbait.\n",
        "I download [fake and real news dataset](https://www.kaggle.com/clmentbisaillon/fake-and-real-news-dataset) but i use only true news because i dont need fake news.\n",
        "I download [news clickbait dataset](https://www.kaggle.com/vikassingh1996/news-clickbait-dataset) but I only used train2.csv because train1.csv and clickbait-dataset content same texts.\n",
        "I want to add fake and real dataset and new clickbait dataset to clickbait dataset. Maybe I can get better results if i use bigger the dataset.\n",
        "\n",
        "## Lets start read and inspect data."
      ]
    },
    {
      "cell_type": "code",
      "metadata": {
        "colab": {
          "base_uri": "https://localhost:8080/",
          "height": 419
        },
        "id": "g3s80dILPWnn",
        "outputId": "257b0cc9-220b-4cb2-fffc-3e5b972a718a"
      },
      "source": [
        "df = pd.read_csv('gdrive/My Drive/clickbait_data.csv')\n",
        "df"
      ],
      "execution_count": 4,
      "outputs": [
        {
          "output_type": "execute_result",
          "data": {
            "text/html": [
              "<div>\n",
              "<style scoped>\n",
              "    .dataframe tbody tr th:only-of-type {\n",
              "        vertical-align: middle;\n",
              "    }\n",
              "\n",
              "    .dataframe tbody tr th {\n",
              "        vertical-align: top;\n",
              "    }\n",
              "\n",
              "    .dataframe thead th {\n",
              "        text-align: right;\n",
              "    }\n",
              "</style>\n",
              "<table border=\"1\" class=\"dataframe\">\n",
              "  <thead>\n",
              "    <tr style=\"text-align: right;\">\n",
              "      <th></th>\n",
              "      <th>headline</th>\n",
              "      <th>clickbait</th>\n",
              "    </tr>\n",
              "  </thead>\n",
              "  <tbody>\n",
              "    <tr>\n",
              "      <th>0</th>\n",
              "      <td>Should I Get Bings</td>\n",
              "      <td>1</td>\n",
              "    </tr>\n",
              "    <tr>\n",
              "      <th>1</th>\n",
              "      <td>Which TV Female Friend Group Do You Belong In</td>\n",
              "      <td>1</td>\n",
              "    </tr>\n",
              "    <tr>\n",
              "      <th>2</th>\n",
              "      <td>The New \"Star Wars: The Force Awakens\" Trailer...</td>\n",
              "      <td>1</td>\n",
              "    </tr>\n",
              "    <tr>\n",
              "      <th>3</th>\n",
              "      <td>This Vine Of New York On \"Celebrity Big Brothe...</td>\n",
              "      <td>1</td>\n",
              "    </tr>\n",
              "    <tr>\n",
              "      <th>4</th>\n",
              "      <td>A Couple Did A Stunning Photo Shoot With Their...</td>\n",
              "      <td>1</td>\n",
              "    </tr>\n",
              "    <tr>\n",
              "      <th>...</th>\n",
              "      <td>...</td>\n",
              "      <td>...</td>\n",
              "    </tr>\n",
              "    <tr>\n",
              "      <th>31995</th>\n",
              "      <td>To Make Female Hearts Flutter in Iraq, Throw a...</td>\n",
              "      <td>0</td>\n",
              "    </tr>\n",
              "    <tr>\n",
              "      <th>31996</th>\n",
              "      <td>British Liberal Democrat Patsy Calton, 56, die...</td>\n",
              "      <td>0</td>\n",
              "    </tr>\n",
              "    <tr>\n",
              "      <th>31997</th>\n",
              "      <td>Drone smartphone app to help heart attack vict...</td>\n",
              "      <td>0</td>\n",
              "    </tr>\n",
              "    <tr>\n",
              "      <th>31998</th>\n",
              "      <td>Netanyahu Urges Pope Benedict, in Israel, to D...</td>\n",
              "      <td>0</td>\n",
              "    </tr>\n",
              "    <tr>\n",
              "      <th>31999</th>\n",
              "      <td>Computer Makers Prepare to Stake Bigger Claim ...</td>\n",
              "      <td>0</td>\n",
              "    </tr>\n",
              "  </tbody>\n",
              "</table>\n",
              "<p>32000 rows × 2 columns</p>\n",
              "</div>"
            ],
            "text/plain": [
              "                                                headline  clickbait\n",
              "0                                     Should I Get Bings          1\n",
              "1          Which TV Female Friend Group Do You Belong In          1\n",
              "2      The New \"Star Wars: The Force Awakens\" Trailer...          1\n",
              "3      This Vine Of New York On \"Celebrity Big Brothe...          1\n",
              "4      A Couple Did A Stunning Photo Shoot With Their...          1\n",
              "...                                                  ...        ...\n",
              "31995  To Make Female Hearts Flutter in Iraq, Throw a...          0\n",
              "31996  British Liberal Democrat Patsy Calton, 56, die...          0\n",
              "31997  Drone smartphone app to help heart attack vict...          0\n",
              "31998  Netanyahu Urges Pope Benedict, in Israel, to D...          0\n",
              "31999  Computer Makers Prepare to Stake Bigger Claim ...          0\n",
              "\n",
              "[32000 rows x 2 columns]"
            ]
          },
          "metadata": {
            "tags": []
          },
          "execution_count": 4
        }
      ]
    },
    {
      "cell_type": "code",
      "metadata": {
        "colab": {
          "base_uri": "https://localhost:8080/",
          "height": 204
        },
        "id": "TJZOyj74SxXS",
        "outputId": "9b95b626-aa38-4779-a5b3-2f037e42bf34"
      },
      "source": [
        "real_news_df = pd.read_csv('gdrive/My Drive/True.csv')\n",
        "real_news_df.head()"
      ],
      "execution_count": 5,
      "outputs": [
        {
          "output_type": "execute_result",
          "data": {
            "text/html": [
              "<div>\n",
              "<style scoped>\n",
              "    .dataframe tbody tr th:only-of-type {\n",
              "        vertical-align: middle;\n",
              "    }\n",
              "\n",
              "    .dataframe tbody tr th {\n",
              "        vertical-align: top;\n",
              "    }\n",
              "\n",
              "    .dataframe thead th {\n",
              "        text-align: right;\n",
              "    }\n",
              "</style>\n",
              "<table border=\"1\" class=\"dataframe\">\n",
              "  <thead>\n",
              "    <tr style=\"text-align: right;\">\n",
              "      <th></th>\n",
              "      <th>title</th>\n",
              "      <th>text</th>\n",
              "      <th>subject</th>\n",
              "      <th>date</th>\n",
              "    </tr>\n",
              "  </thead>\n",
              "  <tbody>\n",
              "    <tr>\n",
              "      <th>0</th>\n",
              "      <td>As U.S. budget fight looms, Republicans flip t...</td>\n",
              "      <td>WASHINGTON (Reuters) - The head of a conservat...</td>\n",
              "      <td>politicsNews</td>\n",
              "      <td>December 31, 2017</td>\n",
              "    </tr>\n",
              "    <tr>\n",
              "      <th>1</th>\n",
              "      <td>U.S. military to accept transgender recruits o...</td>\n",
              "      <td>WASHINGTON (Reuters) - Transgender people will...</td>\n",
              "      <td>politicsNews</td>\n",
              "      <td>December 29, 2017</td>\n",
              "    </tr>\n",
              "    <tr>\n",
              "      <th>2</th>\n",
              "      <td>Senior U.S. Republican senator: 'Let Mr. Muell...</td>\n",
              "      <td>WASHINGTON (Reuters) - The special counsel inv...</td>\n",
              "      <td>politicsNews</td>\n",
              "      <td>December 31, 2017</td>\n",
              "    </tr>\n",
              "    <tr>\n",
              "      <th>3</th>\n",
              "      <td>FBI Russia probe helped by Australian diplomat...</td>\n",
              "      <td>WASHINGTON (Reuters) - Trump campaign adviser ...</td>\n",
              "      <td>politicsNews</td>\n",
              "      <td>December 30, 2017</td>\n",
              "    </tr>\n",
              "    <tr>\n",
              "      <th>4</th>\n",
              "      <td>Trump wants Postal Service to charge 'much mor...</td>\n",
              "      <td>SEATTLE/WASHINGTON (Reuters) - President Donal...</td>\n",
              "      <td>politicsNews</td>\n",
              "      <td>December 29, 2017</td>\n",
              "    </tr>\n",
              "  </tbody>\n",
              "</table>\n",
              "</div>"
            ],
            "text/plain": [
              "                                               title  ...                date\n",
              "0  As U.S. budget fight looms, Republicans flip t...  ...  December 31, 2017 \n",
              "1  U.S. military to accept transgender recruits o...  ...  December 29, 2017 \n",
              "2  Senior U.S. Republican senator: 'Let Mr. Muell...  ...  December 31, 2017 \n",
              "3  FBI Russia probe helped by Australian diplomat...  ...  December 30, 2017 \n",
              "4  Trump wants Postal Service to charge 'much mor...  ...  December 29, 2017 \n",
              "\n",
              "[5 rows x 4 columns]"
            ]
          },
          "metadata": {
            "tags": []
          },
          "execution_count": 5
        }
      ]
    },
    {
      "cell_type": "markdown",
      "metadata": {
        "id": "T1YSDw4iLh6N"
      },
      "source": [
        "I dont need text, subject and date columns so i dropped these columns. And i changed title columns because my dataset include only clickbaits and headline. "
      ]
    },
    {
      "cell_type": "code",
      "metadata": {
        "colab": {
          "base_uri": "https://localhost:8080/",
          "height": 204
        },
        "id": "EkX4IAkFLf4M",
        "outputId": "f456b013-3f6c-4b5e-d4ea-ce9ebcfc6747"
      },
      "source": [
        "real_news_df = real_news_df.drop(['text', 'subject', 'date'], axis=1).rename(columns={'title': 'headline'})\n",
        "real_news_df['clickbait'] = 0\n",
        "real_news_df.head()"
      ],
      "execution_count": 6,
      "outputs": [
        {
          "output_type": "execute_result",
          "data": {
            "text/html": [
              "<div>\n",
              "<style scoped>\n",
              "    .dataframe tbody tr th:only-of-type {\n",
              "        vertical-align: middle;\n",
              "    }\n",
              "\n",
              "    .dataframe tbody tr th {\n",
              "        vertical-align: top;\n",
              "    }\n",
              "\n",
              "    .dataframe thead th {\n",
              "        text-align: right;\n",
              "    }\n",
              "</style>\n",
              "<table border=\"1\" class=\"dataframe\">\n",
              "  <thead>\n",
              "    <tr style=\"text-align: right;\">\n",
              "      <th></th>\n",
              "      <th>headline</th>\n",
              "      <th>clickbait</th>\n",
              "    </tr>\n",
              "  </thead>\n",
              "  <tbody>\n",
              "    <tr>\n",
              "      <th>0</th>\n",
              "      <td>As U.S. budget fight looms, Republicans flip t...</td>\n",
              "      <td>0</td>\n",
              "    </tr>\n",
              "    <tr>\n",
              "      <th>1</th>\n",
              "      <td>U.S. military to accept transgender recruits o...</td>\n",
              "      <td>0</td>\n",
              "    </tr>\n",
              "    <tr>\n",
              "      <th>2</th>\n",
              "      <td>Senior U.S. Republican senator: 'Let Mr. Muell...</td>\n",
              "      <td>0</td>\n",
              "    </tr>\n",
              "    <tr>\n",
              "      <th>3</th>\n",
              "      <td>FBI Russia probe helped by Australian diplomat...</td>\n",
              "      <td>0</td>\n",
              "    </tr>\n",
              "    <tr>\n",
              "      <th>4</th>\n",
              "      <td>Trump wants Postal Service to charge 'much mor...</td>\n",
              "      <td>0</td>\n",
              "    </tr>\n",
              "  </tbody>\n",
              "</table>\n",
              "</div>"
            ],
            "text/plain": [
              "                                            headline  clickbait\n",
              "0  As U.S. budget fight looms, Republicans flip t...          0\n",
              "1  U.S. military to accept transgender recruits o...          0\n",
              "2  Senior U.S. Republican senator: 'Let Mr. Muell...          0\n",
              "3  FBI Russia probe helped by Australian diplomat...          0\n",
              "4  Trump wants Postal Service to charge 'much mor...          0"
            ]
          },
          "metadata": {
            "tags": []
          },
          "execution_count": 6
        }
      ]
    },
    {
      "cell_type": "markdown",
      "metadata": {
        "id": "vE5QhTSVOGdV"
      },
      "source": [
        "clickbait dataset include news and clickbait in label columns but i need value = 1 for clickbait and value = 0 for non clickbait. So i have to change."
      ]
    },
    {
      "cell_type": "code",
      "metadata": {
        "colab": {
          "base_uri": "https://localhost:8080/",
          "height": 204
        },
        "id": "0UfoVl7nTDlH",
        "outputId": "d3c95f51-42c0-4ee6-bd64-a4e249f6bc71"
      },
      "source": [
        "df2 = pd.read_csv('gdrive/My Drive/clickbait_data2.csv')\n",
        "df2.head()"
      ],
      "execution_count": 8,
      "outputs": [
        {
          "output_type": "execute_result",
          "data": {
            "text/html": [
              "<div>\n",
              "<style scoped>\n",
              "    .dataframe tbody tr th:only-of-type {\n",
              "        vertical-align: middle;\n",
              "    }\n",
              "\n",
              "    .dataframe tbody tr th {\n",
              "        vertical-align: top;\n",
              "    }\n",
              "\n",
              "    .dataframe thead th {\n",
              "        text-align: right;\n",
              "    }\n",
              "</style>\n",
              "<table border=\"1\" class=\"dataframe\">\n",
              "  <thead>\n",
              "    <tr style=\"text-align: right;\">\n",
              "      <th></th>\n",
              "      <th>label</th>\n",
              "      <th>title</th>\n",
              "    </tr>\n",
              "  </thead>\n",
              "  <tbody>\n",
              "    <tr>\n",
              "      <th>0</th>\n",
              "      <td>news</td>\n",
              "      <td>China and Economic Reform: Xi Jinping’s Track ...</td>\n",
              "    </tr>\n",
              "    <tr>\n",
              "      <th>1</th>\n",
              "      <td>news</td>\n",
              "      <td>Trade to Be a Big Topic in Theresa May’s U.S. ...</td>\n",
              "    </tr>\n",
              "    <tr>\n",
              "      <th>2</th>\n",
              "      <td>clickbait</td>\n",
              "      <td>The Top Beaches In The World, According To Nat...</td>\n",
              "    </tr>\n",
              "    <tr>\n",
              "      <th>3</th>\n",
              "      <td>clickbait</td>\n",
              "      <td>Sheriff’s Report Provides New Details on Tamir...</td>\n",
              "    </tr>\n",
              "    <tr>\n",
              "      <th>4</th>\n",
              "      <td>news</td>\n",
              "      <td>Surgeon claiming he will transplant volunteer'...</td>\n",
              "    </tr>\n",
              "  </tbody>\n",
              "</table>\n",
              "</div>"
            ],
            "text/plain": [
              "       label                                              title\n",
              "0       news  China and Economic Reform: Xi Jinping’s Track ...\n",
              "1       news  Trade to Be a Big Topic in Theresa May’s U.S. ...\n",
              "2  clickbait  The Top Beaches In The World, According To Nat...\n",
              "3  clickbait  Sheriff’s Report Provides New Details on Tamir...\n",
              "4       news  Surgeon claiming he will transplant volunteer'..."
            ]
          },
          "metadata": {
            "tags": []
          },
          "execution_count": 8
        }
      ]
    },
    {
      "cell_type": "markdown",
      "metadata": {
        "id": "bXDxizaSOeAo"
      },
      "source": [
        "I changed label columns and name of title columns."
      ]
    },
    {
      "cell_type": "code",
      "metadata": {
        "colab": {
          "base_uri": "https://localhost:8080/",
          "height": 204
        },
        "id": "t4JUxw5nOEv6",
        "outputId": "258d75d2-3bf0-4af7-a24b-5187d1b889dc"
      },
      "source": [
        "df2.label = df2.label.apply(lambda x: 1 if x == \"clickbait\" else 0)\n",
        "df2 = df2.rename(columns={'label': 'clickbait', 'title': 'headline'})\n",
        "df2.head()"
      ],
      "execution_count": 9,
      "outputs": [
        {
          "output_type": "execute_result",
          "data": {
            "text/html": [
              "<div>\n",
              "<style scoped>\n",
              "    .dataframe tbody tr th:only-of-type {\n",
              "        vertical-align: middle;\n",
              "    }\n",
              "\n",
              "    .dataframe tbody tr th {\n",
              "        vertical-align: top;\n",
              "    }\n",
              "\n",
              "    .dataframe thead th {\n",
              "        text-align: right;\n",
              "    }\n",
              "</style>\n",
              "<table border=\"1\" class=\"dataframe\">\n",
              "  <thead>\n",
              "    <tr style=\"text-align: right;\">\n",
              "      <th></th>\n",
              "      <th>clickbait</th>\n",
              "      <th>headline</th>\n",
              "    </tr>\n",
              "  </thead>\n",
              "  <tbody>\n",
              "    <tr>\n",
              "      <th>0</th>\n",
              "      <td>0</td>\n",
              "      <td>China and Economic Reform: Xi Jinping’s Track ...</td>\n",
              "    </tr>\n",
              "    <tr>\n",
              "      <th>1</th>\n",
              "      <td>0</td>\n",
              "      <td>Trade to Be a Big Topic in Theresa May’s U.S. ...</td>\n",
              "    </tr>\n",
              "    <tr>\n",
              "      <th>2</th>\n",
              "      <td>1</td>\n",
              "      <td>The Top Beaches In The World, According To Nat...</td>\n",
              "    </tr>\n",
              "    <tr>\n",
              "      <th>3</th>\n",
              "      <td>1</td>\n",
              "      <td>Sheriff’s Report Provides New Details on Tamir...</td>\n",
              "    </tr>\n",
              "    <tr>\n",
              "      <th>4</th>\n",
              "      <td>0</td>\n",
              "      <td>Surgeon claiming he will transplant volunteer'...</td>\n",
              "    </tr>\n",
              "  </tbody>\n",
              "</table>\n",
              "</div>"
            ],
            "text/plain": [
              "   clickbait                                           headline\n",
              "0          0  China and Economic Reform: Xi Jinping’s Track ...\n",
              "1          0  Trade to Be a Big Topic in Theresa May’s U.S. ...\n",
              "2          1  The Top Beaches In The World, According To Nat...\n",
              "3          1  Sheriff’s Report Provides New Details on Tamir...\n",
              "4          0  Surgeon claiming he will transplant volunteer'..."
            ]
          },
          "metadata": {
            "tags": []
          },
          "execution_count": 9
        }
      ]
    },
    {
      "cell_type": "markdown",
      "metadata": {
        "id": "cVn1FTVIOmdK"
      },
      "source": [
        "Now the datasets look like but columns need to be swapped to be the same."
      ]
    },
    {
      "cell_type": "code",
      "metadata": {
        "colab": {
          "base_uri": "https://localhost:8080/"
        },
        "id": "VlfotxLLUtzI",
        "outputId": "f5358ff3-898e-4e64-87c9-9a7dcd1fb9f4"
      },
      "source": [
        "titles = list(df2.columns)\n",
        "titles"
      ],
      "execution_count": 10,
      "outputs": [
        {
          "output_type": "execute_result",
          "data": {
            "text/plain": [
              "['clickbait', 'headline']"
            ]
          },
          "metadata": {
            "tags": []
          },
          "execution_count": 10
        }
      ]
    },
    {
      "cell_type": "code",
      "metadata": {
        "colab": {
          "base_uri": "https://localhost:8080/"
        },
        "id": "FTDptvqYXvE-",
        "outputId": "1739193c-05b5-475a-ad0c-b86de7985fe7"
      },
      "source": [
        "titles[0],titles[1] = titles[1],titles[0]\n",
        "titles"
      ],
      "execution_count": 11,
      "outputs": [
        {
          "output_type": "execute_result",
          "data": {
            "text/plain": [
              "['headline', 'clickbait']"
            ]
          },
          "metadata": {
            "tags": []
          },
          "execution_count": 11
        }
      ]
    },
    {
      "cell_type": "code",
      "metadata": {
        "colab": {
          "base_uri": "https://localhost:8080/",
          "height": 204
        },
        "id": "nfunQqeYYN8_",
        "outputId": "f046e8d0-1d4c-470d-bfe5-8508ee7536d3"
      },
      "source": [
        "df2 = df2[titles]\n",
        "df2.head()"
      ],
      "execution_count": 12,
      "outputs": [
        {
          "output_type": "execute_result",
          "data": {
            "text/html": [
              "<div>\n",
              "<style scoped>\n",
              "    .dataframe tbody tr th:only-of-type {\n",
              "        vertical-align: middle;\n",
              "    }\n",
              "\n",
              "    .dataframe tbody tr th {\n",
              "        vertical-align: top;\n",
              "    }\n",
              "\n",
              "    .dataframe thead th {\n",
              "        text-align: right;\n",
              "    }\n",
              "</style>\n",
              "<table border=\"1\" class=\"dataframe\">\n",
              "  <thead>\n",
              "    <tr style=\"text-align: right;\">\n",
              "      <th></th>\n",
              "      <th>headline</th>\n",
              "      <th>clickbait</th>\n",
              "    </tr>\n",
              "  </thead>\n",
              "  <tbody>\n",
              "    <tr>\n",
              "      <th>0</th>\n",
              "      <td>China and Economic Reform: Xi Jinping’s Track ...</td>\n",
              "      <td>0</td>\n",
              "    </tr>\n",
              "    <tr>\n",
              "      <th>1</th>\n",
              "      <td>Trade to Be a Big Topic in Theresa May’s U.S. ...</td>\n",
              "      <td>0</td>\n",
              "    </tr>\n",
              "    <tr>\n",
              "      <th>2</th>\n",
              "      <td>The Top Beaches In The World, According To Nat...</td>\n",
              "      <td>1</td>\n",
              "    </tr>\n",
              "    <tr>\n",
              "      <th>3</th>\n",
              "      <td>Sheriff’s Report Provides New Details on Tamir...</td>\n",
              "      <td>1</td>\n",
              "    </tr>\n",
              "    <tr>\n",
              "      <th>4</th>\n",
              "      <td>Surgeon claiming he will transplant volunteer'...</td>\n",
              "      <td>0</td>\n",
              "    </tr>\n",
              "  </tbody>\n",
              "</table>\n",
              "</div>"
            ],
            "text/plain": [
              "                                            headline  clickbait\n",
              "0  China and Economic Reform: Xi Jinping’s Track ...          0\n",
              "1  Trade to Be a Big Topic in Theresa May’s U.S. ...          0\n",
              "2  The Top Beaches In The World, According To Nat...          1\n",
              "3  Sheriff’s Report Provides New Details on Tamir...          1\n",
              "4  Surgeon claiming he will transplant volunteer'...          0"
            ]
          },
          "metadata": {
            "tags": []
          },
          "execution_count": 12
        }
      ]
    },
    {
      "cell_type": "markdown",
      "metadata": {
        "id": "a-eCemRZPFR7"
      },
      "source": [
        "I combine all datasets in df."
      ]
    },
    {
      "cell_type": "code",
      "metadata": {
        "colab": {
          "base_uri": "https://localhost:8080/",
          "height": 419
        },
        "id": "OBcyYW3iYa1f",
        "outputId": "b2422ef6-20a4-4a8e-b928-7d12334359e8"
      },
      "source": [
        "df = df.append(real_news_df, ignore_index = True)\n",
        "df = df.append(df2, ignore_index = True)\n",
        "df"
      ],
      "execution_count": 13,
      "outputs": [
        {
          "output_type": "execute_result",
          "data": {
            "text/html": [
              "<div>\n",
              "<style scoped>\n",
              "    .dataframe tbody tr th:only-of-type {\n",
              "        vertical-align: middle;\n",
              "    }\n",
              "\n",
              "    .dataframe tbody tr th {\n",
              "        vertical-align: top;\n",
              "    }\n",
              "\n",
              "    .dataframe thead th {\n",
              "        text-align: right;\n",
              "    }\n",
              "</style>\n",
              "<table border=\"1\" class=\"dataframe\">\n",
              "  <thead>\n",
              "    <tr style=\"text-align: right;\">\n",
              "      <th></th>\n",
              "      <th>headline</th>\n",
              "      <th>clickbait</th>\n",
              "    </tr>\n",
              "  </thead>\n",
              "  <tbody>\n",
              "    <tr>\n",
              "      <th>0</th>\n",
              "      <td>Should I Get Bings</td>\n",
              "      <td>1</td>\n",
              "    </tr>\n",
              "    <tr>\n",
              "      <th>1</th>\n",
              "      <td>Which TV Female Friend Group Do You Belong In</td>\n",
              "      <td>1</td>\n",
              "    </tr>\n",
              "    <tr>\n",
              "      <th>2</th>\n",
              "      <td>The New \"Star Wars: The Force Awakens\" Trailer...</td>\n",
              "      <td>1</td>\n",
              "    </tr>\n",
              "    <tr>\n",
              "      <th>3</th>\n",
              "      <td>This Vine Of New York On \"Celebrity Big Brothe...</td>\n",
              "      <td>1</td>\n",
              "    </tr>\n",
              "    <tr>\n",
              "      <th>4</th>\n",
              "      <td>A Couple Did A Stunning Photo Shoot With Their...</td>\n",
              "      <td>1</td>\n",
              "    </tr>\n",
              "    <tr>\n",
              "      <th>...</th>\n",
              "      <td>...</td>\n",
              "      <td>...</td>\n",
              "    </tr>\n",
              "    <tr>\n",
              "      <th>74441</th>\n",
              "      <td>The New Playboy and the End of Adulthood</td>\n",
              "      <td>0</td>\n",
              "    </tr>\n",
              "    <tr>\n",
              "      <th>74442</th>\n",
              "      <td>Use of weaponized drones by ISIS spurs terrori...</td>\n",
              "      <td>0</td>\n",
              "    </tr>\n",
              "    <tr>\n",
              "      <th>74443</th>\n",
              "      <td>Experts: China might be building database of f...</td>\n",
              "      <td>0</td>\n",
              "    </tr>\n",
              "    <tr>\n",
              "      <th>74444</th>\n",
              "      <td>How Trump Can Fix His Troubled White House</td>\n",
              "      <td>0</td>\n",
              "    </tr>\n",
              "    <tr>\n",
              "      <th>74445</th>\n",
              "      <td>A flood disaster in N.C.: Satellite photos bef...</td>\n",
              "      <td>0</td>\n",
              "    </tr>\n",
              "  </tbody>\n",
              "</table>\n",
              "<p>74446 rows × 2 columns</p>\n",
              "</div>"
            ],
            "text/plain": [
              "                                                headline  clickbait\n",
              "0                                     Should I Get Bings          1\n",
              "1          Which TV Female Friend Group Do You Belong In          1\n",
              "2      The New \"Star Wars: The Force Awakens\" Trailer...          1\n",
              "3      This Vine Of New York On \"Celebrity Big Brothe...          1\n",
              "4      A Couple Did A Stunning Photo Shoot With Their...          1\n",
              "...                                                  ...        ...\n",
              "74441           The New Playboy and the End of Adulthood          0\n",
              "74442  Use of weaponized drones by ISIS spurs terrori...          0\n",
              "74443  Experts: China might be building database of f...          0\n",
              "74444         How Trump Can Fix His Troubled White House          0\n",
              "74445  A flood disaster in N.C.: Satellite photos bef...          0\n",
              "\n",
              "[74446 rows x 2 columns]"
            ]
          },
          "metadata": {
            "tags": []
          },
          "execution_count": 13
        }
      ]
    },
    {
      "cell_type": "markdown",
      "metadata": {
        "id": "E4X2VLYSPWHq"
      },
      "source": [
        "I dropped all same data."
      ]
    },
    {
      "cell_type": "code",
      "metadata": {
        "colab": {
          "base_uri": "https://localhost:8080/",
          "height": 419
        },
        "id": "l0jo0rQ5K7QY",
        "outputId": "512d44aa-20a4-45f6-c0f5-f44eb2401d5e"
      },
      "source": [
        "df.drop_duplicates(keep=False, inplace=False)\n",
        "df"
      ],
      "execution_count": 14,
      "outputs": [
        {
          "output_type": "execute_result",
          "data": {
            "text/html": [
              "<div>\n",
              "<style scoped>\n",
              "    .dataframe tbody tr th:only-of-type {\n",
              "        vertical-align: middle;\n",
              "    }\n",
              "\n",
              "    .dataframe tbody tr th {\n",
              "        vertical-align: top;\n",
              "    }\n",
              "\n",
              "    .dataframe thead th {\n",
              "        text-align: right;\n",
              "    }\n",
              "</style>\n",
              "<table border=\"1\" class=\"dataframe\">\n",
              "  <thead>\n",
              "    <tr style=\"text-align: right;\">\n",
              "      <th></th>\n",
              "      <th>headline</th>\n",
              "      <th>clickbait</th>\n",
              "    </tr>\n",
              "  </thead>\n",
              "  <tbody>\n",
              "    <tr>\n",
              "      <th>0</th>\n",
              "      <td>Should I Get Bings</td>\n",
              "      <td>1</td>\n",
              "    </tr>\n",
              "    <tr>\n",
              "      <th>1</th>\n",
              "      <td>Which TV Female Friend Group Do You Belong In</td>\n",
              "      <td>1</td>\n",
              "    </tr>\n",
              "    <tr>\n",
              "      <th>2</th>\n",
              "      <td>The New \"Star Wars: The Force Awakens\" Trailer...</td>\n",
              "      <td>1</td>\n",
              "    </tr>\n",
              "    <tr>\n",
              "      <th>3</th>\n",
              "      <td>This Vine Of New York On \"Celebrity Big Brothe...</td>\n",
              "      <td>1</td>\n",
              "    </tr>\n",
              "    <tr>\n",
              "      <th>4</th>\n",
              "      <td>A Couple Did A Stunning Photo Shoot With Their...</td>\n",
              "      <td>1</td>\n",
              "    </tr>\n",
              "    <tr>\n",
              "      <th>...</th>\n",
              "      <td>...</td>\n",
              "      <td>...</td>\n",
              "    </tr>\n",
              "    <tr>\n",
              "      <th>74441</th>\n",
              "      <td>The New Playboy and the End of Adulthood</td>\n",
              "      <td>0</td>\n",
              "    </tr>\n",
              "    <tr>\n",
              "      <th>74442</th>\n",
              "      <td>Use of weaponized drones by ISIS spurs terrori...</td>\n",
              "      <td>0</td>\n",
              "    </tr>\n",
              "    <tr>\n",
              "      <th>74443</th>\n",
              "      <td>Experts: China might be building database of f...</td>\n",
              "      <td>0</td>\n",
              "    </tr>\n",
              "    <tr>\n",
              "      <th>74444</th>\n",
              "      <td>How Trump Can Fix His Troubled White House</td>\n",
              "      <td>0</td>\n",
              "    </tr>\n",
              "    <tr>\n",
              "      <th>74445</th>\n",
              "      <td>A flood disaster in N.C.: Satellite photos bef...</td>\n",
              "      <td>0</td>\n",
              "    </tr>\n",
              "  </tbody>\n",
              "</table>\n",
              "<p>74446 rows × 2 columns</p>\n",
              "</div>"
            ],
            "text/plain": [
              "                                                headline  clickbait\n",
              "0                                     Should I Get Bings          1\n",
              "1          Which TV Female Friend Group Do You Belong In          1\n",
              "2      The New \"Star Wars: The Force Awakens\" Trailer...          1\n",
              "3      This Vine Of New York On \"Celebrity Big Brothe...          1\n",
              "4      A Couple Did A Stunning Photo Shoot With Their...          1\n",
              "...                                                  ...        ...\n",
              "74441           The New Playboy and the End of Adulthood          0\n",
              "74442  Use of weaponized drones by ISIS spurs terrori...          0\n",
              "74443  Experts: China might be building database of f...          0\n",
              "74444         How Trump Can Fix His Troubled White House          0\n",
              "74445  A flood disaster in N.C.: Satellite photos bef...          0\n",
              "\n",
              "[74446 rows x 2 columns]"
            ]
          },
          "metadata": {
            "tags": []
          },
          "execution_count": 14
        }
      ]
    },
    {
      "cell_type": "markdown",
      "metadata": {
        "id": "LhCAdMcAPsdt"
      },
      "source": [
        "# **DATA ANALYZING**\n",
        "\n",
        "I added another column with human readable values such as 'clickbait' or 'real' as our categorical features."
      ]
    },
    {
      "cell_type": "code",
      "metadata": {
        "id": "_WgO0zFmY-_z"
      },
      "source": [
        "df['category'] = df['clickbait']\n",
        "df['category'] = df['category'].map({1: 'Clickbait', 0: 'Real_News'})"
      ],
      "execution_count": 15,
      "outputs": []
    },
    {
      "cell_type": "code",
      "metadata": {
        "colab": {
          "base_uri": "https://localhost:8080/",
          "height": 610
        },
        "id": "x7y_wF0lZHY_",
        "outputId": "cea28453-a487-4c13-e444-29896c574e70"
      },
      "source": [
        "counts = df.clickbait.value_counts()\n",
        "print('''\n",
        "Number of Clickbait headlines in data: {}\n",
        "Number of real Headlines in data: {}\n",
        "'''.format(\n",
        "    counts[1],\n",
        "    counts[0]))\n",
        "\n",
        "fig = go.Figure(data=[go.Pie(labels=['Real_News','Clickbait'], values=counts, hole=.3)])\n",
        "fig.show()"
      ],
      "execution_count": 16,
      "outputs": [
        {
          "output_type": "stream",
          "text": [
            "\n",
            "Number of Clickbait headlines in data: 20290\n",
            "Number of real Headlines in data: 54156\n",
            "\n"
          ],
          "name": "stdout"
        },
        {
          "output_type": "display_data",
          "data": {
            "text/html": [
              "<html>\n",
              "<head><meta charset=\"utf-8\" /></head>\n",
              "<body>\n",
              "    <div>\n",
              "            <script src=\"https://cdnjs.cloudflare.com/ajax/libs/mathjax/2.7.5/MathJax.js?config=TeX-AMS-MML_SVG\"></script><script type=\"text/javascript\">if (window.MathJax) {MathJax.Hub.Config({SVG: {font: \"STIX-Web\"}});}</script>\n",
              "                <script type=\"text/javascript\">window.PlotlyConfig = {MathJaxConfig: 'local'};</script>\n",
              "        <script src=\"https://cdn.plot.ly/plotly-latest.min.js\"></script>    \n",
              "            <div id=\"8f8add50-3cf8-4d45-983b-e891f3398244\" class=\"plotly-graph-div\" style=\"height:525px; width:100%;\"></div>\n",
              "            <script type=\"text/javascript\">\n",
              "                \n",
              "                    window.PLOTLYENV=window.PLOTLYENV || {};\n",
              "                    \n",
              "                if (document.getElementById(\"8f8add50-3cf8-4d45-983b-e891f3398244\")) {\n",
              "                    Plotly.newPlot(\n",
              "                        '8f8add50-3cf8-4d45-983b-e891f3398244',\n",
              "                        [{\"hole\": 0.3, \"labels\": [\"Real_News\", \"Clickbait\"], \"type\": \"pie\", \"values\": [54156, 20290]}],\n",
              "                        {\"template\": {\"data\": {\"bar\": [{\"error_x\": {\"color\": \"#2a3f5f\"}, \"error_y\": {\"color\": \"#2a3f5f\"}, \"marker\": {\"line\": {\"color\": \"#E5ECF6\", \"width\": 0.5}}, \"type\": \"bar\"}], \"barpolar\": [{\"marker\": {\"line\": {\"color\": \"#E5ECF6\", \"width\": 0.5}}, \"type\": \"barpolar\"}], \"carpet\": [{\"aaxis\": {\"endlinecolor\": \"#2a3f5f\", \"gridcolor\": \"white\", \"linecolor\": \"white\", \"minorgridcolor\": \"white\", \"startlinecolor\": \"#2a3f5f\"}, \"baxis\": {\"endlinecolor\": \"#2a3f5f\", \"gridcolor\": \"white\", \"linecolor\": \"white\", \"minorgridcolor\": \"white\", \"startlinecolor\": \"#2a3f5f\"}, \"type\": \"carpet\"}], \"choropleth\": [{\"colorbar\": {\"outlinewidth\": 0, \"ticks\": \"\"}, \"type\": \"choropleth\"}], \"contour\": [{\"colorbar\": {\"outlinewidth\": 0, \"ticks\": \"\"}, \"colorscale\": [[0.0, \"#0d0887\"], [0.1111111111111111, \"#46039f\"], [0.2222222222222222, \"#7201a8\"], [0.3333333333333333, \"#9c179e\"], [0.4444444444444444, \"#bd3786\"], [0.5555555555555556, \"#d8576b\"], [0.6666666666666666, \"#ed7953\"], [0.7777777777777778, \"#fb9f3a\"], [0.8888888888888888, \"#fdca26\"], [1.0, \"#f0f921\"]], \"type\": \"contour\"}], \"contourcarpet\": [{\"colorbar\": {\"outlinewidth\": 0, \"ticks\": \"\"}, \"type\": \"contourcarpet\"}], \"heatmap\": [{\"colorbar\": {\"outlinewidth\": 0, \"ticks\": \"\"}, \"colorscale\": [[0.0, \"#0d0887\"], [0.1111111111111111, \"#46039f\"], [0.2222222222222222, \"#7201a8\"], [0.3333333333333333, \"#9c179e\"], [0.4444444444444444, \"#bd3786\"], [0.5555555555555556, \"#d8576b\"], [0.6666666666666666, \"#ed7953\"], [0.7777777777777778, \"#fb9f3a\"], [0.8888888888888888, \"#fdca26\"], [1.0, \"#f0f921\"]], \"type\": \"heatmap\"}], \"heatmapgl\": [{\"colorbar\": {\"outlinewidth\": 0, \"ticks\": \"\"}, \"colorscale\": [[0.0, \"#0d0887\"], [0.1111111111111111, \"#46039f\"], [0.2222222222222222, \"#7201a8\"], [0.3333333333333333, \"#9c179e\"], [0.4444444444444444, \"#bd3786\"], [0.5555555555555556, \"#d8576b\"], [0.6666666666666666, \"#ed7953\"], [0.7777777777777778, \"#fb9f3a\"], [0.8888888888888888, \"#fdca26\"], [1.0, \"#f0f921\"]], \"type\": \"heatmapgl\"}], \"histogram\": [{\"marker\": {\"colorbar\": {\"outlinewidth\": 0, \"ticks\": \"\"}}, \"type\": \"histogram\"}], \"histogram2d\": [{\"colorbar\": {\"outlinewidth\": 0, \"ticks\": \"\"}, \"colorscale\": [[0.0, \"#0d0887\"], [0.1111111111111111, \"#46039f\"], [0.2222222222222222, \"#7201a8\"], [0.3333333333333333, \"#9c179e\"], [0.4444444444444444, \"#bd3786\"], [0.5555555555555556, \"#d8576b\"], [0.6666666666666666, \"#ed7953\"], [0.7777777777777778, \"#fb9f3a\"], [0.8888888888888888, \"#fdca26\"], [1.0, \"#f0f921\"]], \"type\": \"histogram2d\"}], \"histogram2dcontour\": [{\"colorbar\": {\"outlinewidth\": 0, \"ticks\": \"\"}, \"colorscale\": [[0.0, \"#0d0887\"], [0.1111111111111111, \"#46039f\"], [0.2222222222222222, \"#7201a8\"], [0.3333333333333333, \"#9c179e\"], [0.4444444444444444, \"#bd3786\"], [0.5555555555555556, \"#d8576b\"], [0.6666666666666666, \"#ed7953\"], [0.7777777777777778, \"#fb9f3a\"], [0.8888888888888888, \"#fdca26\"], [1.0, \"#f0f921\"]], \"type\": \"histogram2dcontour\"}], \"mesh3d\": [{\"colorbar\": {\"outlinewidth\": 0, \"ticks\": \"\"}, \"type\": \"mesh3d\"}], \"parcoords\": [{\"line\": {\"colorbar\": {\"outlinewidth\": 0, \"ticks\": \"\"}}, \"type\": \"parcoords\"}], \"pie\": [{\"automargin\": true, \"type\": \"pie\"}], \"scatter\": [{\"marker\": {\"colorbar\": {\"outlinewidth\": 0, \"ticks\": \"\"}}, \"type\": \"scatter\"}], \"scatter3d\": [{\"line\": {\"colorbar\": {\"outlinewidth\": 0, \"ticks\": \"\"}}, \"marker\": {\"colorbar\": {\"outlinewidth\": 0, \"ticks\": \"\"}}, \"type\": \"scatter3d\"}], \"scattercarpet\": [{\"marker\": {\"colorbar\": {\"outlinewidth\": 0, \"ticks\": \"\"}}, \"type\": \"scattercarpet\"}], \"scattergeo\": [{\"marker\": {\"colorbar\": {\"outlinewidth\": 0, \"ticks\": \"\"}}, \"type\": \"scattergeo\"}], \"scattergl\": [{\"marker\": {\"colorbar\": {\"outlinewidth\": 0, \"ticks\": \"\"}}, \"type\": \"scattergl\"}], \"scattermapbox\": [{\"marker\": {\"colorbar\": {\"outlinewidth\": 0, \"ticks\": \"\"}}, \"type\": \"scattermapbox\"}], \"scatterpolar\": [{\"marker\": {\"colorbar\": {\"outlinewidth\": 0, \"ticks\": \"\"}}, \"type\": \"scatterpolar\"}], \"scatterpolargl\": [{\"marker\": {\"colorbar\": {\"outlinewidth\": 0, \"ticks\": \"\"}}, \"type\": \"scatterpolargl\"}], \"scatterternary\": [{\"marker\": {\"colorbar\": {\"outlinewidth\": 0, \"ticks\": \"\"}}, \"type\": \"scatterternary\"}], \"surface\": [{\"colorbar\": {\"outlinewidth\": 0, \"ticks\": \"\"}, \"colorscale\": [[0.0, \"#0d0887\"], [0.1111111111111111, \"#46039f\"], [0.2222222222222222, \"#7201a8\"], [0.3333333333333333, \"#9c179e\"], [0.4444444444444444, \"#bd3786\"], [0.5555555555555556, \"#d8576b\"], [0.6666666666666666, \"#ed7953\"], [0.7777777777777778, \"#fb9f3a\"], [0.8888888888888888, \"#fdca26\"], [1.0, \"#f0f921\"]], \"type\": \"surface\"}], \"table\": [{\"cells\": {\"fill\": {\"color\": \"#EBF0F8\"}, \"line\": {\"color\": \"white\"}}, \"header\": {\"fill\": {\"color\": \"#C8D4E3\"}, \"line\": {\"color\": \"white\"}}, \"type\": \"table\"}]}, \"layout\": {\"annotationdefaults\": {\"arrowcolor\": \"#2a3f5f\", \"arrowhead\": 0, \"arrowwidth\": 1}, \"coloraxis\": {\"colorbar\": {\"outlinewidth\": 0, \"ticks\": \"\"}}, \"colorscale\": {\"diverging\": [[0, \"#8e0152\"], [0.1, \"#c51b7d\"], [0.2, \"#de77ae\"], [0.3, \"#f1b6da\"], [0.4, \"#fde0ef\"], [0.5, \"#f7f7f7\"], [0.6, \"#e6f5d0\"], [0.7, \"#b8e186\"], [0.8, \"#7fbc41\"], [0.9, \"#4d9221\"], [1, \"#276419\"]], \"sequential\": [[0.0, \"#0d0887\"], [0.1111111111111111, \"#46039f\"], [0.2222222222222222, \"#7201a8\"], [0.3333333333333333, \"#9c179e\"], [0.4444444444444444, \"#bd3786\"], [0.5555555555555556, \"#d8576b\"], [0.6666666666666666, \"#ed7953\"], [0.7777777777777778, \"#fb9f3a\"], [0.8888888888888888, \"#fdca26\"], [1.0, \"#f0f921\"]], \"sequentialminus\": [[0.0, \"#0d0887\"], [0.1111111111111111, \"#46039f\"], [0.2222222222222222, \"#7201a8\"], [0.3333333333333333, \"#9c179e\"], [0.4444444444444444, \"#bd3786\"], [0.5555555555555556, \"#d8576b\"], [0.6666666666666666, \"#ed7953\"], [0.7777777777777778, \"#fb9f3a\"], [0.8888888888888888, \"#fdca26\"], [1.0, \"#f0f921\"]]}, \"colorway\": [\"#636efa\", \"#EF553B\", \"#00cc96\", \"#ab63fa\", \"#FFA15A\", \"#19d3f3\", \"#FF6692\", \"#B6E880\", \"#FF97FF\", \"#FECB52\"], \"font\": {\"color\": \"#2a3f5f\"}, \"geo\": {\"bgcolor\": \"white\", \"lakecolor\": \"white\", \"landcolor\": \"#E5ECF6\", \"showlakes\": true, \"showland\": true, \"subunitcolor\": \"white\"}, \"hoverlabel\": {\"align\": \"left\"}, \"hovermode\": \"closest\", \"mapbox\": {\"style\": \"light\"}, \"paper_bgcolor\": \"white\", \"plot_bgcolor\": \"#E5ECF6\", \"polar\": {\"angularaxis\": {\"gridcolor\": \"white\", \"linecolor\": \"white\", \"ticks\": \"\"}, \"bgcolor\": \"#E5ECF6\", \"radialaxis\": {\"gridcolor\": \"white\", \"linecolor\": \"white\", \"ticks\": \"\"}}, \"scene\": {\"xaxis\": {\"backgroundcolor\": \"#E5ECF6\", \"gridcolor\": \"white\", \"gridwidth\": 2, \"linecolor\": \"white\", \"showbackground\": true, \"ticks\": \"\", \"zerolinecolor\": \"white\"}, \"yaxis\": {\"backgroundcolor\": \"#E5ECF6\", \"gridcolor\": \"white\", \"gridwidth\": 2, \"linecolor\": \"white\", \"showbackground\": true, \"ticks\": \"\", \"zerolinecolor\": \"white\"}, \"zaxis\": {\"backgroundcolor\": \"#E5ECF6\", \"gridcolor\": \"white\", \"gridwidth\": 2, \"linecolor\": \"white\", \"showbackground\": true, \"ticks\": \"\", \"zerolinecolor\": \"white\"}}, \"shapedefaults\": {\"line\": {\"color\": \"#2a3f5f\"}}, \"ternary\": {\"aaxis\": {\"gridcolor\": \"white\", \"linecolor\": \"white\", \"ticks\": \"\"}, \"baxis\": {\"gridcolor\": \"white\", \"linecolor\": \"white\", \"ticks\": \"\"}, \"bgcolor\": \"#E5ECF6\", \"caxis\": {\"gridcolor\": \"white\", \"linecolor\": \"white\", \"ticks\": \"\"}}, \"title\": {\"x\": 0.05}, \"xaxis\": {\"automargin\": true, \"gridcolor\": \"white\", \"linecolor\": \"white\", \"ticks\": \"\", \"title\": {\"standoff\": 15}, \"zerolinecolor\": \"white\", \"zerolinewidth\": 2}, \"yaxis\": {\"automargin\": true, \"gridcolor\": \"white\", \"linecolor\": \"white\", \"ticks\": \"\", \"title\": {\"standoff\": 15}, \"zerolinecolor\": \"white\", \"zerolinewidth\": 2}}}},\n",
              "                        {\"responsive\": true}\n",
              "                    ).then(function(){\n",
              "                            \n",
              "var gd = document.getElementById('8f8add50-3cf8-4d45-983b-e891f3398244');\n",
              "var x = new MutationObserver(function (mutations, observer) {{\n",
              "        var display = window.getComputedStyle(gd).display;\n",
              "        if (!display || display === 'none') {{\n",
              "            console.log([gd, 'removed!']);\n",
              "            Plotly.purge(gd);\n",
              "            observer.disconnect();\n",
              "        }}\n",
              "}});\n",
              "\n",
              "// Listen for the removal of the full notebook cells\n",
              "var notebookContainer = gd.closest('#notebook-container');\n",
              "if (notebookContainer) {{\n",
              "    x.observe(notebookContainer, {childList: true});\n",
              "}}\n",
              "\n",
              "// Listen for the clearing of the current output cell\n",
              "var outputEl = gd.closest('.output');\n",
              "if (outputEl) {{\n",
              "    x.observe(outputEl, {childList: true});\n",
              "}}\n",
              "\n",
              "                        })\n",
              "                };\n",
              "                \n",
              "            </script>\n",
              "        </div>\n",
              "</body>\n",
              "</html>"
            ]
          },
          "metadata": {
            "tags": []
          }
        }
      ]
    },
    {
      "cell_type": "markdown",
      "metadata": {
        "id": "JozWudtYQglb"
      },
      "source": [
        "I split dataset into train and test."
      ]
    },
    {
      "cell_type": "code",
      "metadata": {
        "id": "iBTInCD-ZM5m"
      },
      "source": [
        "text = df['headline'].values\n",
        "labels = df['clickbait'].values\n",
        "text_train, text_test, y_train, y_test = train_test_split(text, labels, test_size=0.2)\n",
        "vocab_size = 5000\n",
        "maxlen = 500\n",
        "embedding_size = 32\n",
        "\n",
        "tokenizer = Tokenizer(num_words=vocab_size)\n",
        "tokenizer.fit_on_texts(text)\n",
        "\n",
        "X_train = tokenizer.texts_to_sequences(text_train)\n",
        "x_test = tokenizer.texts_to_sequences(text_test)\n",
        "\n",
        "X_train = pad_sequences(X_train, maxlen=maxlen)\n",
        "x_test = pad_sequences(x_test, maxlen=maxlen)"
      ],
      "execution_count": 17,
      "outputs": []
    },
    {
      "cell_type": "markdown",
      "metadata": {
        "id": "ySSznPZzSTOR"
      },
      "source": [
        "# **TRAINING AND BUILDING NETWORK**\n",
        "\n",
        "I build network using LSTM keras model and compile model."
      ]
    },
    {
      "cell_type": "code",
      "metadata": {
        "colab": {
          "base_uri": "https://localhost:8080/"
        },
        "id": "NAlzBO6BZWrj",
        "outputId": "ae1c583f-bd0e-40af-a376-2faa3caef286"
      },
      "source": [
        "model = Sequential()\n",
        "model.add(Embedding(vocab_size, embedding_size, input_length=maxlen))\n",
        "model.add(LSTM(128))\n",
        "model.add(Dense(1, activation='sigmoid'))\n",
        "model.add(Dense(1, activation='sigmoid'))\n",
        "model.summary()"
      ],
      "execution_count": 18,
      "outputs": [
        {
          "output_type": "stream",
          "text": [
            "Model: \"sequential\"\n",
            "_________________________________________________________________\n",
            "Layer (type)                 Output Shape              Param #   \n",
            "=================================================================\n",
            "embedding (Embedding)        (None, 500, 32)           160000    \n",
            "_________________________________________________________________\n",
            "lstm (LSTM)                  (None, 128)               82432     \n",
            "_________________________________________________________________\n",
            "dense (Dense)                (None, 1)                 129       \n",
            "_________________________________________________________________\n",
            "dense_1 (Dense)              (None, 1)                 2         \n",
            "=================================================================\n",
            "Total params: 242,563\n",
            "Trainable params: 242,563\n",
            "Non-trainable params: 0\n",
            "_________________________________________________________________\n"
          ],
          "name": "stdout"
        }
      ]
    },
    {
      "cell_type": "markdown",
      "metadata": {
        "id": "UpVf3Ao0S1De"
      },
      "source": [
        "I using callbacks. Because I need to control epoches."
      ]
    },
    {
      "cell_type": "code",
      "metadata": {
        "id": "Zl75nmPNZaYl"
      },
      "source": [
        "callbacks = [\n",
        "    EarlyStopping(\n",
        "        monitor='val_loss',\n",
        "        min_delta=1e-4,\n",
        "        patience=3,\n",
        "        verbose=1\n",
        "    ),\n",
        "    ModelCheckpoint(\n",
        "        filepath='weights.h5',\n",
        "        monitor='val_loss', \n",
        "        mode='max', \n",
        "        save_best_only=True,\n",
        "        save_weights_only=True,\n",
        "        verbose=1\n",
        "    )\n",
        "]"
      ],
      "execution_count": 19,
      "outputs": []
    },
    {
      "cell_type": "markdown",
      "metadata": {
        "id": "c4NqkMvBT4Wp"
      },
      "source": [
        "\n",
        "I train model for 20 epochs , in mini-batches of 117 samples and fit model."
      ]
    },
    {
      "cell_type": "code",
      "metadata": {
        "colab": {
          "base_uri": "https://localhost:8080/"
        },
        "id": "o6JK5A3JZaeK",
        "outputId": "39ffeb12-4eab-4718-c1ba-fba023a48899"
      },
      "source": [
        "model.compile(loss='binary_crossentropy', optimizer='adam', metrics=['accuracy'])\n",
        "history = model.fit(X_train, y_train, batch_size=512, validation_data=(x_test, y_test), epochs=20, callbacks=callbacks)"
      ],
      "execution_count": 20,
      "outputs": [
        {
          "output_type": "stream",
          "text": [
            "Epoch 1/20\n",
            "117/117 [==============================] - 36s 247ms/step - loss: 0.6839 - accuracy: 0.6837 - val_loss: 0.6696 - val_accuracy: 0.7262\n",
            "\n",
            "Epoch 00001: val_loss improved from -inf to 0.66958, saving model to weights.h5\n",
            "Epoch 2/20\n",
            "117/117 [==============================] - 28s 241ms/step - loss: 0.6594 - accuracy: 0.7278 - val_loss: 0.6500 - val_accuracy: 0.7262\n",
            "\n",
            "Epoch 00002: val_loss did not improve from 0.66958\n",
            "Epoch 3/20\n",
            "117/117 [==============================] - 28s 241ms/step - loss: 0.6416 - accuracy: 0.7278 - val_loss: 0.6344 - val_accuracy: 0.7262\n",
            "\n",
            "Epoch 00003: val_loss did not improve from 0.66958\n",
            "Epoch 4/20\n",
            "117/117 [==============================] - 28s 243ms/step - loss: 0.6274 - accuracy: 0.7278 - val_loss: 0.6220 - val_accuracy: 0.7262\n",
            "\n",
            "Epoch 00004: val_loss did not improve from 0.66958\n",
            "Epoch 5/20\n",
            "117/117 [==============================] - 28s 241ms/step - loss: 0.6163 - accuracy: 0.7278 - val_loss: 0.6124 - val_accuracy: 0.7262\n",
            "\n",
            "Epoch 00005: val_loss did not improve from 0.66958\n",
            "Epoch 6/20\n",
            "117/117 [==============================] - 28s 241ms/step - loss: 0.6077 - accuracy: 0.7278 - val_loss: 0.6050 - val_accuracy: 0.7262\n",
            "\n",
            "Epoch 00006: val_loss did not improve from 0.66958\n",
            "Epoch 7/20\n",
            "117/117 [==============================] - 28s 242ms/step - loss: 0.6012 - accuracy: 0.7278 - val_loss: 0.5995 - val_accuracy: 0.7262\n",
            "\n",
            "Epoch 00007: val_loss did not improve from 0.66958\n",
            "Epoch 8/20\n",
            "117/117 [==============================] - 28s 242ms/step - loss: 0.5964 - accuracy: 0.7278 - val_loss: 0.5955 - val_accuracy: 0.7262\n",
            "\n",
            "Epoch 00008: val_loss did not improve from 0.66958\n",
            "Epoch 9/20\n",
            "117/117 [==============================] - 28s 241ms/step - loss: 0.5929 - accuracy: 0.7278 - val_loss: 0.5926 - val_accuracy: 0.7262\n",
            "\n",
            "Epoch 00009: val_loss did not improve from 0.66958\n",
            "Epoch 10/20\n",
            "117/117 [==============================] - 28s 242ms/step - loss: 0.5904 - accuracy: 0.7278 - val_loss: 0.5906 - val_accuracy: 0.7262\n",
            "\n",
            "Epoch 00010: val_loss did not improve from 0.66958\n",
            "Epoch 11/20\n",
            "117/117 [==============================] - 28s 240ms/step - loss: 0.5886 - accuracy: 0.7278 - val_loss: 0.5892 - val_accuracy: 0.7262\n",
            "\n",
            "Epoch 00011: val_loss did not improve from 0.66958\n",
            "Epoch 12/20\n",
            "117/117 [==============================] - 28s 242ms/step - loss: 0.5875 - accuracy: 0.7278 - val_loss: 0.5884 - val_accuracy: 0.7262\n",
            "\n",
            "Epoch 00012: val_loss did not improve from 0.66958\n",
            "Epoch 13/20\n",
            "117/117 [==============================] - 28s 241ms/step - loss: 0.5867 - accuracy: 0.7278 - val_loss: 0.5878 - val_accuracy: 0.7262\n",
            "\n",
            "Epoch 00013: val_loss did not improve from 0.66958\n",
            "Epoch 14/20\n",
            "117/117 [==============================] - 28s 242ms/step - loss: 0.5862 - accuracy: 0.7278 - val_loss: 0.5874 - val_accuracy: 0.7262\n",
            "\n",
            "Epoch 00014: val_loss did not improve from 0.66958\n",
            "Epoch 15/20\n",
            "117/117 [==============================] - 28s 241ms/step - loss: 0.5859 - accuracy: 0.7278 - val_loss: 0.5872 - val_accuracy: 0.7262\n",
            "\n",
            "Epoch 00015: val_loss did not improve from 0.66958\n",
            "Epoch 16/20\n",
            "117/117 [==============================] - 28s 242ms/step - loss: 0.5857 - accuracy: 0.7278 - val_loss: 0.5871 - val_accuracy: 0.7262\n",
            "\n",
            "Epoch 00016: val_loss did not improve from 0.66958\n",
            "Epoch 17/20\n",
            "117/117 [==============================] - 28s 242ms/step - loss: 0.5856 - accuracy: 0.7278 - val_loss: 0.5871 - val_accuracy: 0.7262\n",
            "\n",
            "Epoch 00017: val_loss did not improve from 0.66958\n",
            "Epoch 18/20\n",
            "117/117 [==============================] - 28s 241ms/step - loss: 0.5855 - accuracy: 0.7278 - val_loss: 0.5870 - val_accuracy: 0.7262\n",
            "\n",
            "Epoch 00018: val_loss did not improve from 0.66958\n",
            "Epoch 19/20\n",
            "117/117 [==============================] - 28s 241ms/step - loss: 0.5855 - accuracy: 0.7278 - val_loss: 0.5870 - val_accuracy: 0.7262\n",
            "\n",
            "Epoch 00019: val_loss did not improve from 0.66958\n",
            "Epoch 00019: early stopping\n"
          ],
          "name": "stdout"
        }
      ]
    },
    {
      "cell_type": "markdown",
      "metadata": {
        "id": "21odzPVOUBI8"
      },
      "source": [
        "# **ANALYZING**\n",
        "\n",
        "I plot the loss and accuracy of the model over the training and validation data during training."
      ]
    },
    {
      "cell_type": "code",
      "metadata": {
        "colab": {
          "base_uri": "https://localhost:8080/",
          "height": 336
        },
        "id": "w4qRY6JDZxOE",
        "outputId": "daa3874f-fcd2-4c56-9826-abbee1d303bf"
      },
      "source": [
        "acc = history.history['accuracy']\n",
        "val_acc = history.history['val_accuracy']\n",
        "loss = history.history['loss']\n",
        "val_loss = history.history['val_loss']\n",
        "x = range(1, len(acc) + 1)\n",
        "\n",
        "plt.figure(figsize=(12, 5))\n",
        "plt.subplot(1, 2, 1)\n",
        "plt.plot(x, acc, 'b', label='Training acc')\n",
        "plt.plot(x, val_acc, 'r', label='Validation acc')\n",
        "plt.title('Training and validation accuracy')\n",
        "plt.legend()\n",
        "plt.subplot(1, 2, 2)\n",
        "plt.plot(x, loss, 'b', label='Training loss')\n",
        "plt.plot(x, val_loss, 'r', label='Validation loss')\n",
        "plt.title('Training and validation loss')\n",
        "plt.legend()\n",
        "plt.show()"
      ],
      "execution_count": 21,
      "outputs": [
        {
          "output_type": "display_data",
          "data": {
            "image/png": "[encoded data removed]",
            "text/plain": [
              "<Figure size 864x360 with 2 Axes>"
            ]
          },
          "metadata": {
            "tags": [],
            "needs_background": "light"
          }
        }
      ]
    },
    {
      "cell_type": "markdown",
      "metadata": {
        "id": "k7pXCENkUhq1"
      },
      "source": [
        "# **BUILDING DIFFERENT NETWORK AND TRAINING MODEL**"
      ]
    },
    {
      "cell_type": "markdown",
      "metadata": {
        "id": "kciBtAsWbVGB"
      },
      "source": [
        "The first network didn't produce the results I wanted so I build another network using LSTM."
      ]
    },
    {
      "cell_type": "code",
      "metadata": {
        "colab": {
          "base_uri": "https://localhost:8080/"
        },
        "id": "FVV4JHTAUn9o",
        "outputId": "79244be7-ed06-4735-f0f7-e6a344ac4d0d"
      },
      "source": [
        "model = Sequential()\n",
        "model.add(Embedding(vocab_size, embedding_size, input_length=maxlen))\n",
        "model.add(LSTM(32, return_sequences=True))\n",
        "model.add(GlobalMaxPooling1D())\n",
        "model.add(Dropout(0.2))\n",
        "model.add(Dense(1, activation='sigmoid'))\n",
        "model.summary()"
      ],
      "execution_count": 22,
      "outputs": [
        {
          "output_type": "stream",
          "text": [
            "Model: \"sequential_1\"\n",
            "_________________________________________________________________\n",
            "Layer (type)                 Output Shape              Param #   \n",
            "=================================================================\n",
            "embedding_1 (Embedding)      (None, 500, 32)           160000    \n",
            "_________________________________________________________________\n",
            "lstm_1 (LSTM)                (None, 500, 32)           8320      \n",
            "_________________________________________________________________\n",
            "global_max_pooling1d (Global (None, 32)                0         \n",
            "_________________________________________________________________\n",
            "dropout (Dropout)            (None, 32)                0         \n",
            "_________________________________________________________________\n",
            "dense_2 (Dense)              (None, 1)                 33        \n",
            "=================================================================\n",
            "Total params: 168,353\n",
            "Trainable params: 168,353\n",
            "Non-trainable params: 0\n",
            "_________________________________________________________________\n"
          ],
          "name": "stdout"
        }
      ]
    },
    {
      "cell_type": "markdown",
      "metadata": {
        "id": "FDKU96z_V2k8"
      },
      "source": [
        "\n",
        "I train model for 20 epochs , in mini-batches of 50 samples and fit model. "
      ]
    },
    {
      "cell_type": "code",
      "metadata": {
        "id": "H287yj_tVpnu",
        "colab": {
          "base_uri": "https://localhost:8080/"
        },
        "outputId": "8cfcf801-db87-4d5a-b8b0-8feab850f268"
      },
      "source": [
        "model.compile(loss='binary_crossentropy', optimizer='adam', metrics=['accuracy'])\n",
        "history = model.fit(X_train, y_train, batch_size=512, validation_data=(x_test, y_test), epochs=20, callbacks=callbacks)"
      ],
      "execution_count": 23,
      "outputs": [
        {
          "output_type": "stream",
          "text": [
            "Epoch 1/20\n",
            "117/117 [==============================] - 15s 109ms/step - loss: 0.5198 - accuracy: 0.7514 - val_loss: 0.2981 - val_accuracy: 0.9136\n",
            "\n",
            "Epoch 00001: val_loss did not improve from 0.66958\n",
            "Epoch 2/20\n",
            "117/117 [==============================] - 12s 99ms/step - loss: 0.2452 - accuracy: 0.9204 - val_loss: 0.2278 - val_accuracy: 0.9226\n",
            "\n",
            "Epoch 00002: val_loss did not improve from 0.66958\n",
            "Epoch 3/20\n",
            "117/117 [==============================] - 12s 100ms/step - loss: 0.2028 - accuracy: 0.9300 - val_loss: 0.2219 - val_accuracy: 0.9218\n",
            "\n",
            "Epoch 00003: val_loss did not improve from 0.66958\n",
            "Epoch 4/20\n",
            "117/117 [==============================] - 12s 99ms/step - loss: 0.1885 - accuracy: 0.9348 - val_loss: 0.2223 - val_accuracy: 0.9220\n",
            "\n",
            "Epoch 00004: val_loss did not improve from 0.66958\n",
            "Epoch 5/20\n",
            "117/117 [==============================] - 12s 99ms/step - loss: 0.1789 - accuracy: 0.9385 - val_loss: 0.2235 - val_accuracy: 0.9198\n",
            "\n",
            "Epoch 00005: val_loss did not improve from 0.66958\n",
            "Epoch 6/20\n",
            "117/117 [==============================] - 12s 99ms/step - loss: 0.1720 - accuracy: 0.9407 - val_loss: 0.2251 - val_accuracy: 0.9185\n",
            "\n",
            "Epoch 00006: val_loss did not improve from 0.66958\n",
            "Epoch 00006: early stopping\n"
          ],
          "name": "stdout"
        }
      ]
    },
    {
      "cell_type": "markdown",
      "metadata": {
        "id": "ykn8NANnV6g0"
      },
      "source": [
        "# **ANALYZING**\n",
        "\n",
        "I plot the loss and accuracy of the model over the training and validation data during training."
      ]
    },
    {
      "cell_type": "code",
      "metadata": {
        "id": "ffKMUJwaVuOo",
        "colab": {
          "base_uri": "https://localhost:8080/",
          "height": 336
        },
        "outputId": "c4b030be-e89b-45b0-b36a-bba4604666c2"
      },
      "source": [
        "acc = history.history['accuracy']\n",
        "val_acc = history.history['val_accuracy']\n",
        "loss = history.history['loss']\n",
        "val_loss = history.history['val_loss']\n",
        "x = range(1, len(acc) + 1)\n",
        "\n",
        "plt.figure(figsize=(12, 5))\n",
        "plt.subplot(1, 2, 1)\n",
        "plt.plot(x, acc, 'b', label='Training acc')\n",
        "plt.plot(x, val_acc, 'r', label='Validation acc')\n",
        "plt.title('Training and validation accuracy')\n",
        "plt.legend()\n",
        "plt.subplot(1, 2, 2)\n",
        "plt.plot(x, loss, 'b', label='Training loss')\n",
        "plt.plot(x, val_loss, 'r', label='Validation loss')\n",
        "plt.title('Training and validation loss')\n",
        "plt.legend()\n",
        "plt.show()"
      ],
      "execution_count": 24,
      "outputs": [
        {
          "output_type": "display_data",
          "data": {
            "image/png": "[encoded data removed]",
            "text/plain": [
              "<Figure size 864x360 with 2 Axes>"
            ]
          },
          "metadata": {
            "tags": [],
            "needs_background": "light"
          }
        }
      ]
    },
    {
      "cell_type": "markdown",
      "metadata": {
        "id": "TbnnHO9eUN2q"
      },
      "source": [
        "\n",
        "# **TESTING**\n",
        "\n",
        "I test the model with using test set I previously splited."
      ]
    },
    {
      "cell_type": "code",
      "metadata": {
        "id": "jhADpmqEZzAs"
      },
      "source": [
        "preds = [round(i[0]) for i in model.predict(x_test)]\n",
        "cm = confusion_matrix(y_test, preds)"
      ],
      "execution_count": 25,
      "outputs": []
    },
    {
      "cell_type": "code",
      "metadata": {
        "colab": {
          "base_uri": "https://localhost:8080/"
        },
        "id": "ZyighTqgZ6H-",
        "outputId": "646bb74f-d086-409c-86d4-2ba5c7afda2f"
      },
      "source": [
        "tn, fp, fn, tp = cm.ravel()\n",
        "\n",
        "precision = tp/(tp+fp)\n",
        "recall = tp/(tp+fn)\n",
        "\n",
        "print(\"Recall of the model is {:.2f}\".format(recall))\n",
        "print(\"Precision of the model is {:.2f}\".format(precision))"
      ],
      "execution_count": 26,
      "outputs": [
        {
          "output_type": "stream",
          "text": [
            "Recall of the model is 0.82\n",
            "Precision of the model is 0.87\n"
          ],
          "name": "stdout"
        }
      ]
    },
    {
      "cell_type": "code",
      "metadata": {
        "id": "LntQ_vfyZ9V6",
        "colab": {
          "base_uri": "https://localhost:8080/"
        },
        "outputId": "247ac89e-24b0-4c1c-a0ac-a4f3637902c4"
      },
      "source": [
        "test = ['My biggest laugh reveal ever!', 'Learning game development with Unity', 'A tour of Japan\\'s Kansai region', '12 things NOT to do in Europe']\n",
        "token_text = pad_sequences(tokenizer.texts_to_sequences(test), maxlen=maxlen)\n",
        "preds = [round(i[0]) for i in model.predict(token_text)]\n",
        "for (text, pred) in zip(test, preds):\n",
        "    label = 'Clickbait' if pred == 1.0 else 'Not Clickbait'\n",
        "    print(\"{} - {}\".format(text, label))"
      ],
      "execution_count": 27,
      "outputs": [
        {
          "output_type": "stream",
          "text": [
            "My biggest laugh reveal ever! - Clickbait\n",
            "Learning game development with Unity - Not Clickbait\n",
            "A tour of Japan's Kansai region - Not Clickbait\n",
            "12 things NOT to do in Europe - Clickbait\n"
          ],
          "name": "stdout"
        }
      ]
    }
  ]
}